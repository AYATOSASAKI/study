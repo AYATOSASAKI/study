{
  "nbformat": 4,
  "nbformat_minor": 0,
  "metadata": {
    "language_info": {
      "codemirror_mode": {
        "name": "ipython",
        "version": 3
      },
      "file_extension": ".py",
      "mimetype": "text/x-python",
      "name": "python",
      "nbconvert_exporter": "python",
      "pygments_lexer": "ipython3",
      "version": "3.8.3-final"
    },
    "orig_nbformat": 2,
    "kernelspec": {
      "name": "python38364bit1d4e77b0d338471d9f942cbdbc93c5bf",
      "display_name": "Python 3.8.3 64-bit"
    },
    "colab": {
      "name": "example01_02.ipynb",
      "provenance": [],
      "include_colab_link": true
    }
  },
  "cells": [
    {
      "cell_type": "markdown",
      "metadata": {
        "id": "view-in-github",
        "colab_type": "text"
      },
      "source": [
        "<a href=\"https://colab.research.google.com/github/msiplab/EicEngLabIV/blob/master/example01_03.ipynb\" target=\"_parent\"><img src=\"https://colab.research.google.com/assets/colab-badge.svg\" alt=\"Open In Colab\"/></a>"
      ]
    },
    {
      "cell_type": "markdown",
      "metadata": {
        "id": "U6gvcQkztXTQ",
        "colab_type": "text"
      },
      "source": [
        "# 実験Ⅳ－１　正則化付き単回帰モデル\n",
        "\n",
        "1. サンプルデータの読み込み\n",
        "1. 線形単回帰の実行\n",
        "1. 正則化付き基底展開単回帰の実行\n",
        "\n"
      ]
    },
    {
      "cell_type": "code",
      "metadata": {
        "tags": [],
        "id": "w5cJfi6ytXTT",
        "colab_type": "code",
        "colab": {
          "base_uri": "https://localhost:8080/",
          "height": 153
        },
        "outputId": "a392debd-133c-4e93-8d76-fbac9abdc5b0"
      },
      "source": [
        "!pip install japanize-matplotlib\n",
        "%matplotlib inline\n",
        "\n",
        "import warnings\n",
        "warnings.simplefilter('ignore') #警告を無視（コメントアウト推奨）\n",
        "\n",
        "import numpy as np\n",
        "import pandas as pd\n",
        "import matplotlib.pyplot as plt\n",
        "import seaborn as sns\n",
        "import japanize_matplotlib #日本語化matplotlib\n",
        "sns.set(font=\"IPAexGothic\") #日本語フォント設定\n"
      ],
      "execution_count": 1,
      "outputs": [
        {
          "output_type": "stream",
          "text": [
            "Requirement already satisfied: japanize-matplotlib in /usr/local/lib/python3.6/dist-packages (1.1.2)\n",
            "Requirement already satisfied: matplotlib in /usr/local/lib/python3.6/dist-packages (from japanize-matplotlib) (3.2.2)\n",
            "Requirement already satisfied: kiwisolver>=1.0.1 in /usr/local/lib/python3.6/dist-packages (from matplotlib->japanize-matplotlib) (1.2.0)\n",
            "Requirement already satisfied: python-dateutil>=2.1 in /usr/local/lib/python3.6/dist-packages (from matplotlib->japanize-matplotlib) (2.8.1)\n",
            "Requirement already satisfied: cycler>=0.10 in /usr/local/lib/python3.6/dist-packages (from matplotlib->japanize-matplotlib) (0.10.0)\n",
            "Requirement already satisfied: pyparsing!=2.0.4,!=2.1.2,!=2.1.6,>=2.0.1 in /usr/local/lib/python3.6/dist-packages (from matplotlib->japanize-matplotlib) (2.4.7)\n",
            "Requirement already satisfied: numpy>=1.11 in /usr/local/lib/python3.6/dist-packages (from matplotlib->japanize-matplotlib) (1.18.5)\n",
            "Requirement already satisfied: six>=1.5 in /usr/local/lib/python3.6/dist-packages (from python-dateutil>=2.1->matplotlib->japanize-matplotlib) (1.12.0)\n"
          ],
          "name": "stdout"
        }
      ]
    },
    {
      "cell_type": "markdown",
      "metadata": {
        "id": "XuTZsdFotXTn",
        "colab_type": "text"
      },
      "source": [
        "## Google Colaboratory でファイルを読み込む\n",
        "\n",
        "以下の方法があります。\n",
        "\n",
        "1. ファイルをアップロードする\n",
        "1. URL を指定する"
      ]
    },
    {
      "cell_type": "code",
      "metadata": {
        "id": "-kEc00DYtXTp",
        "colab_type": "code",
        "colab": {
          "resources": {
            "http://localhost:8080/nbextensions/google.colab/files.js": {
              "data": "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",
              "ok": true,
              "headers": [
                [
                  "content-type",
                  "application/javascript"
                ]
              ],
              "status": 200,
              "status_text": ""
            }
          },
          "base_uri": "https://localhost:8080/",
          "height": 94
        },
        "outputId": "499e18b6-a36f-4e5f-aac8-8e101a097627"
      },
      "source": [
        "# ファイルをアップロードする\n",
        "from google.colab import files\n",
        "uploaded_file = files.upload()\n",
        "filename = next(iter(uploaded_file))\n",
        "print(filename)\n",
        "\n",
        "# URLを指定する\n",
        "#filename = 'https://raw.githubusercontent.com/msiplab/EicEngLabIV/master/data/sample01_01.txt'\n",
        "\n",
        "#観測データのファイル\n",
        "#filename = './data/practice01_03.txt'\n",
        "#filename = './data/practice01_04.txt'"
      ],
      "execution_count": 2,
      "outputs": [
        {
          "output_type": "display_data",
          "data": {
            "text/html": [
              "\n",
              "     <input type=\"file\" id=\"files-b910aa53-45fc-4b9d-a6c5-84c873921ca0\" name=\"files[]\" multiple disabled\n",
              "        style=\"border:none\" />\n",
              "     <output id=\"result-b910aa53-45fc-4b9d-a6c5-84c873921ca0\">\n",
              "      Upload widget is only available when the cell has been executed in the\n",
              "      current browser session. Please rerun this cell to enable.\n",
              "      </output>\n",
              "      <script src=\"/nbextensions/google.colab/files.js\"></script> "
            ],
            "text/plain": [
              "<IPython.core.display.HTML object>"
            ]
          },
          "metadata": {
            "tags": []
          }
        },
        {
          "output_type": "stream",
          "text": [
            "Saving practice01_03.txt to practice01_03 (2).txt\n",
            "practice01_03.txt\n"
          ],
          "name": "stdout"
        }
      ]
    },
    {
      "cell_type": "code",
      "metadata": {
        "id": "d7LkGaz5tXTw",
        "colab_type": "code",
        "colab": {
          "base_uri": "https://localhost:8080/",
          "height": 419
        },
        "outputId": "d935030f-ffa2-4efb-8b32-304b06a4a458"
      },
      "source": [
        "#観測データ（空白区切り）の読み込み\n",
        "dataset = pd.read_csv(filename, delim_whitespace=True)\n",
        "#dataset = pd.read_csv(filename)\n",
        "display(dataset)\n",
        "\n",
        "#観測データ数\n",
        "nSamples = len(dataset)\n"
      ],
      "execution_count": 3,
      "outputs": [
        {
          "output_type": "display_data",
          "data": {
            "text/html": [
              "<div>\n",
              "<style scoped>\n",
              "    .dataframe tbody tr th:only-of-type {\n",
              "        vertical-align: middle;\n",
              "    }\n",
              "\n",
              "    .dataframe tbody tr th {\n",
              "        vertical-align: top;\n",
              "    }\n",
              "\n",
              "    .dataframe thead th {\n",
              "        text-align: right;\n",
              "    }\n",
              "</style>\n",
              "<table border=\"1\" class=\"dataframe\">\n",
              "  <thead>\n",
              "    <tr style=\"text-align: right;\">\n",
              "      <th></th>\n",
              "      <th>NANOMETERS</th>\n",
              "      <th>REFLECTANCE</th>\n",
              "    </tr>\n",
              "  </thead>\n",
              "  <tbody>\n",
              "    <tr>\n",
              "      <th>0</th>\n",
              "      <td>2000.0</td>\n",
              "      <td>5.350</td>\n",
              "    </tr>\n",
              "    <tr>\n",
              "      <th>1</th>\n",
              "      <td>1998.0</td>\n",
              "      <td>7.668</td>\n",
              "    </tr>\n",
              "    <tr>\n",
              "      <th>2</th>\n",
              "      <td>1996.0</td>\n",
              "      <td>10.086</td>\n",
              "    </tr>\n",
              "    <tr>\n",
              "      <th>3</th>\n",
              "      <td>1994.0</td>\n",
              "      <td>8.559</td>\n",
              "    </tr>\n",
              "    <tr>\n",
              "      <th>4</th>\n",
              "      <td>1992.0</td>\n",
              "      <td>5.733</td>\n",
              "    </tr>\n",
              "    <tr>\n",
              "      <th>...</th>\n",
              "      <td>...</td>\n",
              "      <td>...</td>\n",
              "    </tr>\n",
              "    <tr>\n",
              "      <th>886</th>\n",
              "      <td>228.0</td>\n",
              "      <td>10.305</td>\n",
              "    </tr>\n",
              "    <tr>\n",
              "      <th>887</th>\n",
              "      <td>226.0</td>\n",
              "      <td>10.528</td>\n",
              "    </tr>\n",
              "    <tr>\n",
              "      <th>888</th>\n",
              "      <td>224.0</td>\n",
              "      <td>9.885</td>\n",
              "    </tr>\n",
              "    <tr>\n",
              "      <th>889</th>\n",
              "      <td>222.0</td>\n",
              "      <td>9.089</td>\n",
              "    </tr>\n",
              "    <tr>\n",
              "      <th>890</th>\n",
              "      <td>220.0</td>\n",
              "      <td>9.004</td>\n",
              "    </tr>\n",
              "  </tbody>\n",
              "</table>\n",
              "<p>891 rows × 2 columns</p>\n",
              "</div>"
            ],
            "text/plain": [
              "     NANOMETERS  REFLECTANCE\n",
              "0        2000.0        5.350\n",
              "1        1998.0        7.668\n",
              "2        1996.0       10.086\n",
              "3        1994.0        8.559\n",
              "4        1992.0        5.733\n",
              "..          ...          ...\n",
              "886       228.0       10.305\n",
              "887       226.0       10.528\n",
              "888       224.0        9.885\n",
              "889       222.0        9.089\n",
              "890       220.0        9.004\n",
              "\n",
              "[891 rows x 2 columns]"
            ]
          },
          "metadata": {
            "tags": []
          }
        }
      ]
    },
    {
      "cell_type": "code",
      "metadata": {
        "id": "CtR43zantXT6",
        "colab_type": "code",
        "colab": {}
      },
      "source": [
        "# 説明変数の設定\n",
        "x = dataset.iloc[:,0].values.reshape(-1,1) \n",
        "#display(x)\n",
        "\n",
        "# 目的変数の設定\n",
        "y = dataset.iloc[:,1].values.reshape(-1,1)\n",
        "#display(y)"
      ],
      "execution_count": 4,
      "outputs": []
    },
    {
      "cell_type": "markdown",
      "metadata": {
        "id": "wRtWDuNstXUA",
        "colab_type": "text"
      },
      "source": [
        "## 観測データの散布図"
      ]
    },
    {
      "cell_type": "code",
      "metadata": {
        "tags": [],
        "id": "DJ2jXkUdtXUB",
        "colab_type": "code",
        "colab": {
          "base_uri": "https://localhost:8080/",
          "height": 299
        },
        "outputId": "767d8865-fadc-46a5-bcb5-d1dd081cea8f"
      },
      "source": [
        "# 散布図の範囲情報の抽出\n",
        "minx = np.min(x)\n",
        "maxx = np.max(x)\n",
        "rx = maxx-minx\n",
        "cx = 0.5*rx\n",
        "miny = np.min(y)\n",
        "maxy = np.max(y)\n",
        "ry = maxy-miny\n",
        "cy = 0.5*ry\n",
        "\n",
        "# 散布図の表示\n",
        "fig, ax = plt.subplots()\n",
        "ax.scatter(x,y)\n",
        "ax.set_title(\"サンプル１\")\n",
        "ax.set_xlabel(dataset.columns[0])\n",
        "ax.set_ylabel(dataset.columns[1])\n",
        "ax.set_xlim([minx-0.1*rx,maxx+0.1*rx])\n",
        "ax.set_ylim([miny-0.1*ry,maxy+0.1*ry])\n",
        "ax.grid(True)\n",
        "plt.show()\n",
        "\n",
        "\n"
      ],
      "execution_count": 5,
      "outputs": [
        {
          "output_type": "display_data",
          "data": {
            "image/png": "[encoded data removed]",
            "text/plain": [
              "<Figure size 432x288 with 1 Axes>"
            ]
          },
          "metadata": {
            "tags": [],
            "needs_background": "light"
          }
        }
      ]
    },
    {
      "cell_type": "markdown",
      "metadata": {
        "id": "JzrbRHq0-ZRA",
        "colab_type": "text"
      },
      "source": [
        "## 線形単回帰の実行"
      ]
    },
    {
      "cell_type": "code",
      "metadata": {
        "id": "M7boUbLQ-ZRB",
        "colab_type": "code",
        "colab": {
          "base_uri": "https://localhost:8080/",
          "height": 34
        },
        "outputId": "1fa985f1-2e01-4259-e1c7-63f9f33995de"
      },
      "source": [
        "from sklearn.linear_model import LinearRegression\n",
        "\n",
        "# 線形単回帰のインスタンス生成\n",
        "regu = LinearRegression()\n",
        "\n",
        "# 線形単回帰分析\n",
        "regu.fit(x,y)"
      ],
      "execution_count": 6,
      "outputs": [
        {
          "output_type": "execute_result",
          "data": {
            "text/plain": [
              "LinearRegression(copy_X=True, fit_intercept=True, n_jobs=None, normalize=False)"
            ]
          },
          "metadata": {
            "tags": []
          },
          "execution_count": 6
        }
      ]
    },
    {
      "cell_type": "code",
      "metadata": {
        "tags": [],
        "id": "EKy55xZ3-ZRF",
        "colab_type": "code",
        "colab": {
          "base_uri": "https://localhost:8080/",
          "height": 333
        },
        "outputId": "474152a7-bf49-49e8-c355-ff74f88ce54d"
      },
      "source": [
        "# 推定結果\n",
        "beta0 = regu.intercept_[0]\n",
        "beta1 = regu.coef_[0][0]\n",
        "print(\"β0 = {0:5.2f} \".format(beta0))\n",
        "print(\"β1 = {0:5.2f} \".format(beta1))\n",
        "\n",
        "# 回帰直線をプロット\n",
        "fig, ax = plt.subplots()\n",
        "xfit = np.linspace(minx,maxx,nSamples).reshape(-1,1) # 列ベクトル化\n",
        "yfit = regu.predict(xfit)\n",
        "ax.scatter(x,y)\n",
        "ax.plot(xfit,yfit, color = 'red')\n",
        "ax.set_title(\"線形単回帰分析の結果\")\n",
        "ax.set_xlabel(dataset.columns[0])\n",
        "ax.set_ylabel(dataset.columns[1])\n",
        "ax.set_xlim([minx-0.1*rx,maxx+0.1*rx])\n",
        "ax.set_ylim([miny-0.1*ry,maxy+0.1*ry])\n",
        "ax.grid(True)\n",
        "plt.show()"
      ],
      "execution_count": 7,
      "outputs": [
        {
          "output_type": "stream",
          "text": [
            "β0 = 17.85 \n",
            "β1 = -0.01 \n"
          ],
          "name": "stdout"
        },
        {
          "output_type": "display_data",
          "data": {
            "image/png": "[encoded data removed]",
            "text/plain": [
              "<Figure size 432x288 with 1 Axes>"
            ]
          },
          "metadata": {
            "tags": [],
            "needs_background": "light"
          }
        }
      ]
    },
    {
      "cell_type": "markdown",
      "metadata": {
        "id": "cnLjw8_DtXUo",
        "colab_type": "text"
      },
      "source": [
        "## 基底展開単回帰モデルのパラメータの選択\n",
        "\n",
        "- RBF単回帰（K平均法を利用した2段階推定クラスを定義）\n",
        "- 交差検証正則化モデル（sklearn.linear_model.LassoCV/RigdeCV）を利用"
      ]
    },
    {
      "cell_type": "code",
      "metadata": {
        "id": "SY9wAYnEl7IV",
        "colab_type": "code",
        "colab": {}
      },
      "source": [
        "\"\"\"GaussianFeaturesWithKmenasモジュール\n",
        "\n",
        "    Copyright (c) 2020, Shogo MURAMATSU, All rights reserved.\n",
        "\"\"\"\n",
        "import numpy as np\n",
        "import pandas as pd \n",
        "from sklearn.cluster import KMeans\n",
        "from sklearn.preprocessing import StandardScaler\n",
        "from sklearn.linear_model import LinearRegression\n",
        "from sklearn.pipeline import make_pipeline\n",
        "from sklearn.base import BaseEstimator, TransformerMixin\n",
        "\n",
        "class GaussianFeaturesWithKmeans(BaseEstimator, TransformerMixin):\n",
        "    \"\"\"K平均法を利用した2段階推定法によるガウス基底関数\n",
        "\n",
        "        scikit-learn LinearRegression推定器に渡すためのガウス基底関数による\n",
        "        特徴量への変換クラス    \n",
        "\n",
        "    Attirbutes:\n",
        "        nbfs (int): 基底関数の数\n",
        "        centers_ (numpy.ndarray): 各ガウス関数の中心\n",
        "        widths_ (numpy.ndarray): 各ガウス関数の幅\n",
        "\n",
        "    References:\n",
        "\n",
        "        * 小西貞則「多変量解析入門－線形から非線形へ－」岩波書店\n",
        "        * Jake VanderPlas（菊池彰訳）「Pythonデータサイエンスハンドブック」オライリージャパン\n",
        "    \"\"\"\n",
        "    def __init__(self, nbfs, width_factor=1.0, prekmeans=True):\n",
        "        \"\"\"GaussianFeaturesWithKMeansのコンストラクタ\"\"\"\n",
        "        self.nbfs = nbfs\n",
        "        self.width_factor = width_factor\n",
        "        self.prekmeans = prekmeans\n",
        "\n",
        "    @staticmethod\n",
        "    def _gauss_basis(x, y, width, axis=None):\n",
        "        arg = (x - y) / (width + 1e-300)\n",
        "        return np.exp(-0.5 * np.sum(arg ** 2, axis))\n",
        "\n",
        "    def fit(self, X, y=None):\n",
        "        ndims = X.shape[1]\n",
        "        if self.prekmeans: # K平均法を前処理に利用\n",
        "            # 説明変数の標準化とK平均法の実行\n",
        "            scaler = StandardScaler()         \n",
        "            kmeans = KMeans(n_clusters=self.nbfs,random_state=0)\n",
        "            X = scaler.fit_transform(X) \n",
        "            kmeans.fit(X) \n",
        "            # クラスタラベルの抽出\n",
        "            labels = kmeans.predict(X).reshape(-1,1)            \n",
        "            # 各クラスタの中心と幅を抽出\n",
        "            clusters = pd.DataFrame(np.concatenate((labels,X),axis=1)).groupby([0])\n",
        "            centers = scaler.inverse_transform(kmeans.cluster_centers_) \n",
        "            widths = (self.width_factor * scaler.scale_ * clusters.std(ddof=0)).to_numpy()\n",
        "            #プライベート静的メソッド_gauss_basisでブロードキャスト計算するために成形\n",
        "            if ndims == 1:\n",
        "                self.centers_ = centers.reshape(-1,)\n",
        "                self.widths_ = widths.reshape(-1,)\n",
        "            else:\n",
        "                self.centers_ = centers.reshape(-1,ndims,1).transpose(2,1,0) \n",
        "                self.widths_ = widths.reshape(-1,ndims,1).transpose(2,1,0)\n",
        "        else: # 等間隔にガウス基底を配置（単変量のみ）\n",
        "            if ndims == 1:\n",
        "                centers = np.linspace(X.min(), X.max(), self.nbfs) \n",
        "                self.centers_ = centers\n",
        "                self.widths_ = self.width_factor * (centers[1] - centers[0]) * np.ones(self.nbfs)\n",
        "            else:\n",
        "                raise Exception('prekmeansを True に設定してください．重回帰はK平均法による事前推定のみ対応しています．') \n",
        "        \n",
        "        return self\n",
        "        \n",
        "    def transform(self, X):\n",
        "        return self._gauss_basis(X[:,:, np.newaxis], self.centers_,\n",
        "                                self.widths_, axis=1)"
      ],
      "execution_count": 8,
      "outputs": []
    },
    {
      "cell_type": "markdown",
      "metadata": {
        "id": "0N2JkyHvl7IY",
        "colab_type": "text"
      },
      "source": [
        "### 正則化付き単回帰モデルの評価\n",
        "- リッジ交差検証(CV)モデル\n",
        "- ラッソ交差検証(CV)モデル"
      ]
    },
    {
      "cell_type": "code",
      "metadata": {
        "tags": [],
        "id": "K3zXwnLytXUq",
        "colab_type": "code",
        "colab": {
          "base_uri": "https://localhost:8080/",
          "height": 204
        },
        "outputId": "5312c1f0-1c34-469f-fe38-bfd82ecddc38"
      },
      "source": [
        "from sklearn.linear_model import RidgeCV, LassoCV\n",
        "from sklearn.preprocessing import PolynomialFeatures\n",
        "from sklearn.metrics import mean_squared_error\n",
        "\n",
        "# ラッソ回帰の選択\n",
        "isLasso = True # False の場合はリッジ回帰を選択\n",
        "\n",
        "# RFB重回帰の選択\n",
        "isRBF = True # False の場合は多項式重回帰を選択\n",
        "width_factor = 2.0 # ガウス関数の広さ\n",
        "\n",
        "# 評価する基底数の最大値（回帰分析が不安定になるときは値を減らして試す）\n",
        "maxdeg = 80 \n",
        "\n",
        "# 正則化法の選択\n",
        "if isLasso: # ラッソ正則化交差検証(CV)モデル\n",
        "    reg = LassoCV()\n",
        "else: # リッジ正則化交差検証(CV)モデル\n",
        "    reg = RidgeCV()\n",
        "\n",
        "# 基底展開法の特徴量を選択\n",
        "if isRBF: # RBF単回帰モデル\n",
        "    phi = GaussianFeaturesWithKmeans(nbfs=maxdeg,width_factor=width_factor)\n",
        "else: # 多項式単回帰モデル\n",
        "    phi = PolynomialFeatures(degree=maxdeg,include_bias=False)\n",
        "        \n",
        "# 基底展開単回帰モデルのインスタンス生成\n",
        "regm = make_pipeline(phi,reg)\n",
        "# 基底展開単回帰分析\n",
        "regm.fit(x,y)"
      ],
      "execution_count": 9,
      "outputs": [
        {
          "output_type": "execute_result",
          "data": {
            "text/plain": [
              "Pipeline(memory=None,\n",
              "         steps=[('gaussianfeatureswithkmeans',\n",
              "                 GaussianFeaturesWithKmeans(nbfs=80, prekmeans=True,\n",
              "                                            width_factor=2.0)),\n",
              "                ('lassocv',\n",
              "                 LassoCV(alphas=None, copy_X=True, cv=None, eps=0.001,\n",
              "                         fit_intercept=True, max_iter=1000, n_alphas=100,\n",
              "                         n_jobs=None, normalize=False, positive=False,\n",
              "                         precompute='auto', random_state=None,\n",
              "                         selection='cyclic', tol=0.0001, verbose=False))],\n",
              "         verbose=False)"
            ]
          },
          "metadata": {
            "tags": []
          },
          "execution_count": 9
        }
      ]
    },
    {
      "cell_type": "code",
      "metadata": {
        "tags": [],
        "id": "T1mAa9fetXU3",
        "colab_type": "code",
        "colab": {
          "base_uri": "https://localhost:8080/",
          "height": 1000
        },
        "outputId": "85a0090f-c2a8-4a71-8ab8-a3f7ebe121fa"
      },
      "source": [
        "# 最適パラメータの推定結果\n",
        "alpha = regm[1].alpha_\n",
        "print(\"λ = {0:5.2e} \".format(alpha))\n",
        "w0 = regm[1].intercept_\n",
        "if not isLasso:\n",
        "    w0 = w0[0]\n",
        "print(\"w0 = {0:5.2f} \".format(w0))\n",
        "for idx in range(0,maxdeg):\n",
        "    if isLasso:\n",
        "        w = regm[1].coef_[idx]\n",
        "    else:\n",
        "        w = regm[1].coef_[0][idx]\n",
        "    print(\"w{0:d} = {1:5.2f} \".format(idx+1,w))\n"
      ],
      "execution_count": 10,
      "outputs": [
        {
          "output_type": "stream",
          "text": [
            "λ = 2.75e-04 \n",
            "w0 =  9.35 \n",
            "w1 = -1.81 \n",
            "w2 =  1.56 \n",
            "w3 = -0.35 \n",
            "w4 =  5.30 \n",
            "w5 = -1.96 \n",
            "w6 =  0.00 \n",
            "w7 =  6.47 \n",
            "w8 = -1.55 \n",
            "w9 = -0.64 \n",
            "w10 =  1.93 \n",
            "w11 =  9.65 \n",
            "w12 =  2.65 \n",
            "w13 = -0.78 \n",
            "w14 = -1.84 \n",
            "w15 = -0.92 \n",
            "w16 = -1.52 \n",
            "w17 =  4.00 \n",
            "w18 = -0.78 \n",
            "w19 =  1.23 \n",
            "w20 =  4.94 \n",
            "w21 =  6.09 \n",
            "w22 = -2.41 \n",
            "w23 =  6.45 \n",
            "w24 =  0.12 \n",
            "w25 = -0.87 \n",
            "w26 = -2.01 \n",
            "w27 =  1.18 \n",
            "w28 =  5.21 \n",
            "w29 =  7.18 \n",
            "w30 =  4.20 \n",
            "w31 =  7.66 \n",
            "w32 = -1.02 \n",
            "w33 =  2.55 \n",
            "w34 = -2.10 \n",
            "w35 =  5.37 \n",
            "w36 =  2.82 \n",
            "w37 = -1.11 \n",
            "w38 =  6.37 \n",
            "w39 = -0.96 \n",
            "w40 = -1.11 \n",
            "w41 =  0.63 \n",
            "w42 = -2.35 \n",
            "w43 = 13.76 \n",
            "w44 = -0.51 \n",
            "w45 = -0.97 \n",
            "w46 =  5.77 \n",
            "w47 = -0.15 \n",
            "w48 =  8.01 \n",
            "w49 = -0.41 \n",
            "w50 = -1.17 \n",
            "w51 = -2.54 \n",
            "w52 = -1.48 \n",
            "w53 =  5.77 \n",
            "w54 = -1.09 \n",
            "w55 =  0.00 \n",
            "w56 =  0.90 \n",
            "w57 =  1.31 \n",
            "w58 =  0.56 \n",
            "w59 =  0.00 \n",
            "w60 =  0.18 \n",
            "w61 =  4.24 \n",
            "w62 =  5.01 \n",
            "w63 =  2.44 \n",
            "w64 = -1.15 \n",
            "w65 =  4.11 \n",
            "w66 =  2.79 \n",
            "w67 =  2.01 \n",
            "w68 =  3.57 \n",
            "w69 =  3.51 \n",
            "w70 =  4.30 \n",
            "w71 = -1.68 \n",
            "w72 = -1.92 \n",
            "w73 = -0.98 \n",
            "w74 = -0.53 \n",
            "w75 = -2.37 \n",
            "w76 = -0.99 \n",
            "w77 = -1.95 \n",
            "w78 =  1.59 \n",
            "w79 = -0.39 \n",
            "w80 =  5.78 \n"
          ],
          "name": "stdout"
        }
      ]
    },
    {
      "cell_type": "markdown",
      "metadata": {
        "id": "xdlZgz76l7Ik",
        "colab_type": "text"
      },
      "source": [
        "### 散布図と曲線の表示"
      ]
    },
    {
      "cell_type": "code",
      "metadata": {
        "id": "c3hBzpjPl7Il",
        "colab_type": "code",
        "colab": {
          "base_uri": "https://localhost:8080/",
          "height": 338
        },
        "outputId": "83d167f2-3950-4887-c3ca-76f8adee2a30"
      },
      "source": [
        "# 回帰曲線をプロット\n",
        "fig, ax = plt.subplots()\n",
        "yfit = regm.predict(xfit)\n",
        "ax.scatter(x,y)\n",
        "ax.plot(xfit,yfit, color = 'red')\n",
        "ax.set_title(\"{0} w/{1}\".format(regm[0],regm[1]))\n",
        "ax.set_xlabel(dataset.columns[0])\n",
        "ax.set_ylabel(dataset.columns[1])\n",
        "ax.set_xlim([minx-0.1*rx,maxx+0.1*rx])\n",
        "ax.set_ylim([miny-0.1*ry,maxy+0.1*ry])\n",
        "ax.grid(True)\n",
        "plt.show()"
      ],
      "execution_count": 11,
      "outputs": [
        {
          "output_type": "display_data",
          "data": {
            "image/png": "[encoded data removed]",
            "text/plain": [
              "<Figure size 432x288 with 1 Axes>"
            ]
          },
          "metadata": {
            "tags": [],
            "needs_background": "light"
          }
        }
      ]
    }
  ]
}