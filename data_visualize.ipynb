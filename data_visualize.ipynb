{
  "nbformat": 4,
  "nbformat_minor": 0,
  "metadata": {
    "colab": {
      "name": "linear_regression.ipynb",
      "provenance": [],
      "collapsed_sections": [],
      "include_colab_link": true
    },
    "kernelspec": {
      "name": "python37564bit8048f50d1223445e9b41ad8e229c25d9",
      "display_name": "Python 3.7.5 64-bit"
    }
  },
  "cells": [
    {
      "cell_type": "markdown",
      "metadata": {
        "id": "view-in-github",
        "colab_type": "text"
      },
      "source": [
        "<a href=\"https://colab.research.google.com/github/msiplab/EicEngLabIV/blob/develop/linear_regression.ipynb\" target=\"_parent\"><img src=\"https://colab.research.google.com/assets/colab-badge.svg\" alt=\"Open In Colab\"/></a>"
      ]
    },
    {
      "cell_type": "markdown",
      "metadata": {
        "colab_type": "text",
        "id": "zSmVOgSzftuP"
      },
      "source": [
        "# 線形単回帰モデル\n",
        "\n",
        "新潟大学工学部工学科　電子情報通信プログラム \n",
        "\n",
        "## 準備"
      ]
    },
    {
      "cell_type": "code",
      "metadata": {
        "id": "-Nnq6gzXfyCl",
        "colab_type": "code",
        "tags": [],
        "colab": {
          "base_uri": "https://localhost:8080/",
          "height": 158
        },
        "outputId": "bdd2ec4d-3cc6-464d-e89a-df39d2225dce"
      },
      "source": [
        "!pip install japanize-matplotlib\n",
        "\n",
        "import warnings\n",
        "warnings.simplefilter('ignore') #警告を無視（コメントアウト推奨）\n",
        "\n",
        "import numpy as np\n",
        "import pandas as pd\n",
        "import matplotlib.pyplot as plt\n",
        "import seaborn as sns\n",
        "import japanize_matplotlib #日本語化matplotlib\n",
        "sns.set(font=\"IPAexGothic\") #日本語フォント設定\n"
      ],
      "execution_count": 17,
      "outputs": [
        {
          "output_type": "stream",
          "text": [
            "Requirement already satisfied: japanize-matplotlib in /usr/local/lib/python3.6/dist-packages (1.1.2)\n",
            "Requirement already satisfied: matplotlib in /usr/local/lib/python3.6/dist-packages (from japanize-matplotlib) (3.2.1)\n",
            "Requirement already satisfied: python-dateutil>=2.1 in /usr/local/lib/python3.6/dist-packages (from matplotlib->japanize-matplotlib) (2.8.1)\n",
            "Requirement already satisfied: numpy>=1.11 in /usr/local/lib/python3.6/dist-packages (from matplotlib->japanize-matplotlib) (1.18.5)\n",
            "Requirement already satisfied: pyparsing!=2.0.4,!=2.1.2,!=2.1.6,>=2.0.1 in /usr/local/lib/python3.6/dist-packages (from matplotlib->japanize-matplotlib) (2.4.7)\n",
            "Requirement already satisfied: kiwisolver>=1.0.1 in /usr/local/lib/python3.6/dist-packages (from matplotlib->japanize-matplotlib) (1.2.0)\n",
            "Requirement already satisfied: cycler>=0.10 in /usr/local/lib/python3.6/dist-packages (from matplotlib->japanize-matplotlib) (0.10.0)\n",
            "Requirement already satisfied: six>=1.5 in /usr/local/lib/python3.6/dist-packages (from python-dateutil>=2.1->matplotlib->japanize-matplotlib) (1.12.0)\n"
          ],
          "name": "stdout"
        }
      ]
    },
    {
      "cell_type": "code",
      "metadata": {
        "id": "BXHMRwf3NRa2",
        "colab_type": "code",
        "colab": {}
      },
      "source": [
        "def load_voltage(current):\n",
        "  \"\"\"\n",
        "  電源モデル\n",
        "  出力電流と負荷電圧の関係\n",
        "  \"\"\"\n",
        "  # 電源電圧\n",
        "  source_voltage = 24 # [V]\n",
        "  # 内部抵抗\n",
        "  internal_register = 2 # [Ω]\n",
        "  # 負荷電圧\n",
        "  return source_voltage - internal_register * current"
      ],
      "execution_count": 18,
      "outputs": []
    },
    {
      "cell_type": "markdown",
      "metadata": {
        "id": "_cU_GnKSMWGG",
        "colab_type": "text"
      },
      "source": [
        "## 観測データ（ノイズなし）"
      ]
    },
    {
      "cell_type": "code",
      "metadata": {
        "id": "77ehlmE9XPLT",
        "colab_type": "code",
        "tags": [],
        "colab": {}
      },
      "source": [
        "# 観測点数\n",
        "nSamples = 2\n",
        "# 出力電流\n",
        "current_observations = np.random.rand(nSamples)\n",
        "\n",
        "# 負荷電圧\n",
        "load_voltages = load_voltage(current_observations)\n",
        "\n"
      ],
      "execution_count": 19,
      "outputs": []
    },
    {
      "cell_type": "markdown",
      "metadata": {
        "id": "j8kdE3uxcNKE",
        "colab_type": "text"
      },
      "source": [
        "## 散布図の表示\n"
      ]
    },
    {
      "cell_type": "code",
      "metadata": {
        "id": "PO-BApIRc1tv",
        "colab_type": "code",
        "colab": {
          "base_uri": "https://localhost:8080/",
          "height": 299
        },
        "outputId": "3cf04063-a9af-4db6-b350-5ac9ade5014a"
      },
      "source": [
        "#散布図の表示\n",
        "fig, ax = plt.subplots()\n",
        "ax.scatter(current_observations,load_voltages)\n",
        "ax.set_title(\"出力電流と負荷電圧の関係\")\n",
        "ax.set_xlabel(\"I [A]\")\n",
        "ax.set_ylabel(\"V [V]\")\n",
        "ax.set_xlim([0,1])\n",
        "ax.set_ylim([0,30])\n",
        "ax.grid(True)\n",
        "plt.show()"
      ],
      "execution_count": 20,
      "outputs": [
        {
          "output_type": "display_data",
          "data": {
            "image/png": "[encoded data removed]",
            "text/plain": [
              "<Figure size 432x288 with 1 Axes>"
            ]
          },
          "metadata": {
            "tags": []
          }
        }
      ]
    },
    {
      "cell_type": "markdown",
      "metadata": {
        "id": "y107P3PxjjBE",
        "colab_type": "text"
      },
      "source": [
        "## 電源電圧 $E$ と内部抵抗 $r$ の解\n",
        "\n",
        "連立方程式は、Numpy ライブラリにある linalg.solve で解くことができる。\n",
        "\n",
        "データセット$\\{(\\mathrm{I}_1,\\mathrm{V}_1),(\\mathrm{I}_2,\\mathrm{V}_2)\\}$より，\n",
        "\n",
        "$\\left(\\begin{array}{l}E \\\\ r\\end{array}\\right)=\\left(\\begin{array}{ll}1 & -\\mathrm{I}_{1} \\\\ 1 & -\\mathrm{I}_{2}\\end{array}\\right)^{-1}\\left(\\begin{array}{l}\\mathrm{V}_{1} \\\\ \\mathrm{V}_{2}\\end{array}\\right)$"
      ]
    },
    {
      "cell_type": "code",
      "metadata": {
        "id": "b8u1dZ-ldTTe",
        "colab_type": "code",
        "tags": [],
        "colab": {
          "base_uri": "https://localhost:8080/",
          "height": 52
        },
        "outputId": "64f7dd5b-376c-48ff-c1ea-a95a9b036433"
      },
      "source": [
        "X = np.array([[1., -current_observations[0]],\n",
        "              [1., -current_observations[1]]])\n",
        "y = load_voltages\n",
        "beta = np.linalg.solve(X, y)\n",
        "\n",
        "print(\"電源電圧 E = {0:5.2f} [V]\".format(beta[0]))\n",
        "print(\"内部抵抗 r = {0:5.2f} [Ω]\".format(beta[1]))"
      ],
      "execution_count": 21,
      "outputs": [
        {
          "output_type": "stream",
          "text": [
            "電源電圧 E = 24.00 [V]\n",
            "内部抵抗 r =  2.00 [Ω]\n"
          ],
          "name": "stdout"
        }
      ]
    },
    {
      "cell_type": "markdown",
      "metadata": {
        "id": "xdTanoYEQSib",
        "colab_type": "text"
      },
      "source": [
        "# 観測データ（ノイズあり）"
      ]
    },
    {
      "cell_type": "code",
      "metadata": {
        "colab_type": "code",
        "id": "KwkXmMX4Qb7X",
        "colab": {
          "base_uri": "https://localhost:8080/",
          "height": 280
        },
        "outputId": "b1010911-90d0-4356-aeb5-8f28d9dde528"
      },
      "source": [
        "# 観測点数\n",
        "nSamples = 8\n",
        "# 出力電流\n",
        "current_observations = np.random.rand(nSamples)\n",
        "# 観測誤差\n",
        "nsigma = 0.5\n",
        "noise = nsigma*np.random.randn(nSamples)\n",
        "# 負荷電圧\n",
        "load_voltages = load_voltage(current_observations)+noise\n",
        "#観測データの表\n",
        "dataset = pd.DataFrame({'I[A]':current_observations,\n",
        "                        'V[V]':load_voltages})\n",
        "dataset.index += 1 # インデックスを1から付与\n",
        "display(dataset)"
      ],
      "execution_count": 22,
      "outputs": [
        {
          "output_type": "display_data",
          "data": {
            "text/html": [
              "<div>\n",
              "<style scoped>\n",
              "    .dataframe tbody tr th:only-of-type {\n",
              "        vertical-align: middle;\n",
              "    }\n",
              "\n",
              "    .dataframe tbody tr th {\n",
              "        vertical-align: top;\n",
              "    }\n",
              "\n",
              "    .dataframe thead th {\n",
              "        text-align: right;\n",
              "    }\n",
              "</style>\n",
              "<table border=\"1\" class=\"dataframe\">\n",
              "  <thead>\n",
              "    <tr style=\"text-align: right;\">\n",
              "      <th></th>\n",
              "      <th>I[A]</th>\n",
              "      <th>V[V]</th>\n",
              "    </tr>\n",
              "  </thead>\n",
              "  <tbody>\n",
              "    <tr>\n",
              "      <th>1</th>\n",
              "      <td>0.061582</td>\n",
              "      <td>24.472971</td>\n",
              "    </tr>\n",
              "    <tr>\n",
              "      <th>2</th>\n",
              "      <td>0.371666</td>\n",
              "      <td>22.644795</td>\n",
              "    </tr>\n",
              "    <tr>\n",
              "      <th>3</th>\n",
              "      <td>0.079790</td>\n",
              "      <td>22.784860</td>\n",
              "    </tr>\n",
              "    <tr>\n",
              "      <th>4</th>\n",
              "      <td>0.388593</td>\n",
              "      <td>23.337509</td>\n",
              "    </tr>\n",
              "    <tr>\n",
              "      <th>5</th>\n",
              "      <td>0.477397</td>\n",
              "      <td>23.969865</td>\n",
              "    </tr>\n",
              "    <tr>\n",
              "      <th>6</th>\n",
              "      <td>0.522190</td>\n",
              "      <td>23.604228</td>\n",
              "    </tr>\n",
              "    <tr>\n",
              "      <th>7</th>\n",
              "      <td>0.615878</td>\n",
              "      <td>22.455535</td>\n",
              "    </tr>\n",
              "    <tr>\n",
              "      <th>8</th>\n",
              "      <td>0.986979</td>\n",
              "      <td>22.011235</td>\n",
              "    </tr>\n",
              "  </tbody>\n",
              "</table>\n",
              "</div>"
            ],
            "text/plain": [
              "       I[A]       V[V]\n",
              "1  0.061582  24.472971\n",
              "2  0.371666  22.644795\n",
              "3  0.079790  22.784860\n",
              "4  0.388593  23.337509\n",
              "5  0.477397  23.969865\n",
              "6  0.522190  23.604228\n",
              "7  0.615878  22.455535\n",
              "8  0.986979  22.011235"
            ]
          },
          "metadata": {
            "tags": []
          }
        }
      ]
    },
    {
      "cell_type": "markdown",
      "metadata": {
        "id": "5BYNoJ4OS3F7",
        "colab_type": "text"
      },
      "source": [
        ""
      ]
    },
    {
      "cell_type": "code",
      "metadata": {
        "id": "qkze7nEsS3cz",
        "colab_type": "code",
        "colab": {
          "base_uri": "https://localhost:8080/",
          "height": 299
        },
        "outputId": "aabb7500-476d-4ae8-d63d-293181b712ab"
      },
      "source": [
        "#散布図の表示\n",
        "fig, ax = plt.subplots()\n",
        "ax.scatter(current_observations,load_voltages)\n",
        "ax.set_title(\"出力電流と負荷電圧の関係\")\n",
        "ax.set_xlabel(\"I [A]\")\n",
        "ax.set_ylabel(\"V [V]\")\n",
        "ax.set_xlim([0,1])\n",
        "ax.set_ylim([0,30])\n",
        "ax.grid(True)\n",
        "plt.show()"
      ],
      "execution_count": 23,
      "outputs": [
        {
          "output_type": "display_data",
          "data": {
            "image/png": "[encoded data removed]",
            "text/plain": [
              "<Figure size 432x288 with 1 Axes>"
            ]
          },
          "metadata": {
            "tags": []
          }
        }
      ]
    },
    {
      "cell_type": "markdown",
      "metadata": {
        "id": "L4N6fgnzwrWA",
        "colab_type": "text"
      },
      "source": [
        "## 電源電圧 $E$ と内部抵抗 $r$ の推定\n",
        "\n",
        "線形単回帰分析は、Scikit-learn ライブラリにあるsklearn.linear_model で計算できる。\n",
        "\n",
        "$\\left(\\begin{array}{c}\n",
        "\\hat{E} \\\\\n",
        "\\widehat{r}\n",
        "\\end{array}\\right)=\\left(\\begin{array}{cc}\n",
        "N & \\sum_{i=1}^{N} I_{i} \\\\\n",
        "\\sum_{i=1}^{N} I_{i} & \\sum_{i=1}^{N} I_{i}^{2}\n",
        "\\end{array}\\right)^{-1}\\left(\\begin{array}{c}\\sum_{i=1}^{N} V_{i}\\\\\\sum_{i=1}^{N} I_iV_{i}\\end{array}\\right)=\\left(\\mathbf{X} \\mathbf{X}^{T}\\right)^{-1} \\mathbf{X}^{T} \\mathbf{y}=\\mathbf{X}^{+} \\mathbf{y}$\n",
        "\n",
        "ただし、\n",
        "\n",
        "$\\mathbf{X}=\\left(\\begin{array}{cc}\n",
        "1 & \\mathrm{I}_{1} \\\\\n",
        "1 & \\mathrm{I}_{2} \\\\\n",
        "\\vdots & \\vdots \\\\\n",
        "1 & \\mathrm{I}_{N}\n",
        "\\end{array}\\right), \\quad \\mathbf{y}=\\left(\\begin{array}{c}\n",
        "\\mathrm{V}_{1} \\\\\n",
        "\\mathrm{V}_{2} \\\\\n",
        "\\vdots \\\\\n",
        "\\mathrm{y}_{N}\n",
        "\\end{array}\\right)$\n"
      ]
    },
    {
      "cell_type": "code",
      "metadata": {
        "tags": [],
        "id": "I2gam8EkwrWB",
        "colab_type": "code",
        "colab": {
          "base_uri": "https://localhost:8080/",
          "height": 334
        },
        "outputId": "f991df5f-543e-4764-973a-7b83b7f371b2"
      },
      "source": [
        "from sklearn import linear_model\n",
        "\n",
        "# 線形回帰のインスタンス生成\n",
        "reg = linear_model.LinearRegression()\n",
        "\n",
        "# 説明変数の設定\n",
        "x = dataset[['I[A]']].values\n",
        "\n",
        "# 目的変数の設定\n",
        "y = dataset[['V[V]']].values\n",
        "\n",
        "# 回帰分析\n",
        "reg.fit(x,y)\n",
        "\n",
        "# 推定結果\n",
        "Ehat = reg.intercept_[0]\n",
        "rhat = -reg.coef_[0][0]\n",
        "print(\"電源電圧の推定値 E^ = {0:5.2f} [V]\".format(Ehat))\n",
        "print(\"内部抵抗の推定値 r^ = {0:5.2f} [Ω]\".format(rhat))\n",
        "\n",
        "# 回帰直線をプロット\n",
        "fig, ax = plt.subplots()\n",
        "ax.scatter(current_observations,load_voltages)\n",
        "ax.plot(x,reg.predict(x), color = 'red')\n",
        "ax.set_title(\"出力電流と負荷電圧の関係\")\n",
        "ax.set_xlabel(\"I [A]\")\n",
        "ax.set_ylabel(\"V [V]\")\n",
        "ax.set_xlim([0,1])\n",
        "ax.set_ylim([0,30])\n",
        "ax.grid(True)\n",
        "plt.show()\n"
      ],
      "execution_count": 24,
      "outputs": [
        {
          "output_type": "stream",
          "text": [
            "電源電圧の推定値 E^ = 23.88 [V]\n",
            "内部抵抗の推定値 r^ =  1.65 [Ω]\n"
          ],
          "name": "stdout"
        },
        {
          "output_type": "display_data",
          "data": {
            "image/png": "[encoded data removed]",
            "text/plain": [
              "<Figure size 432x288 with 1 Axes>"
            ]
          },
          "metadata": {
            "tags": []
          }
        }
      ]
    }
  ]
}