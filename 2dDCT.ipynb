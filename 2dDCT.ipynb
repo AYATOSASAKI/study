{
  "nbformat": 4,
  "nbformat_minor": 0,
  "metadata": {
    "colab": {
      "name": "2dDCT",
      "provenance": []
    },
    "kernelspec": {
      "name": "Python 3.7.9 64-bit",
      "display_name": "Python 3.7.9 64-bit",
      "metadata": {
        "interpreter": {
          "hash": "0d852845d0f3963501c42fdf15beb6ee3921823f645b104ff4b59ca9a9a07fad"
        }
      }
    }
  },
  "cells": [
    {
      "cell_type": "markdown",
      "metadata": {
        "id": "k9jV97X87aRT"
      },
      "source": [
        "プログラム作成に当たって、以下のソースコードを大いに参考にしました。\n",
        "\n",
        "https://github.com/msiplab/VieWork.git"
      ]
    },
    {
      "cell_type": "markdown",
      "metadata": {
        "id": "41UbR0srAnQP"
      },
      "source": [
        "# 線形変換処理\n"
      ]
    },
    {
      "cell_type": "markdown",
      "metadata": {
        "id": "-eLBfidxY0By"
      },
      "source": [
        "## 配列の準備\n",
        "数値計算ライブラリ NumPy を利用"
      ]
    },
    {
      "cell_type": "code",
      "metadata": {
        "id": "fVsFL3N3CZ7l"
      },
      "source": [
        "import numpy as np \n",
        "\n",
        "#numpyのrandom関数で2桁の整数を要素とする16Ｘ16の行列を生成した。これを入力配列とする。\n",
        "#入力配列\n",
        "arrayX = np.matrix(\n",
        " [[97, 16, 99, 96, 20, 94, 60, 50, 36, 91, 96, 76, 23, 29, 51, 16],\n",
        " [90, 58, 84, 87, 60, 31, 83, 10, 19, 40, 89, 41, 51, 55, 44, 70],\n",
        " [36, 22, 56, 85, 87, 25, 94, 45, 52, 76, 59, 14, 36, 37, 23, 31],\n",
        " [79, 27, 69, 68, 49, 88, 45, 87, 85, 99, 25, 35, 81, 44, 98, 33],\n",
        " [35, 95, 82, 36, 75, 75, 30, 24, 45, 27, 85, 27, 34, 91, 93, 52],\n",
        " [80, 66, 88, 54, 39, 89, 47, 96, 24, 14, 85, 84, 67, 88, 59, 87],\n",
        " [64, 41, 90, 47, 66, 10, 36, 10, 98, 31, 72, 20, 22, 45, 47, 29],\n",
        " [26, 37, 72, 84, 54, 99, 76, 80, 36, 38, 10, 89, 43, 68, 80, 29],\n",
        " [82, 74, 11, 11, 16, 11, 91, 26, 45, 86, 62, 82, 19, 13, 30, 57],\n",
        " [81, 61, 46, 99, 52, 77, 31, 20, 94, 66, 32, 55, 57, 10, 76, 76],\n",
        " [36, 82, 97, 62, 36, 20, 97, 97, 26, 66, 57, 43, 84, 42, 11, 25],\n",
        " [57, 66, 37, 25, 85, 75, 42, 97, 48, 75, 38, 43, 81, 74, 48, 66],\n",
        " [50, 55, 96, 10, 89, 93, 50, 48, 29, 15, 67, 32, 19, 66, 85, 31],\n",
        " [84, 92, 10, 31, 97, 80, 39, 19, 28, 63, 53, 43, 55, 86, 35, 83],\n",
        " [99, 99, 50, 18, 46, 56, 30, 83, 19, 25, 89, 32, 16, 19, 60, 44],\n",
        " [51, 65, 72, 77, 75, 89, 27, 76, 80, 18, 91, 74, 36, 90, 47, 82]])\n",
        "#display(arrayX)"
      ],
      "execution_count": null,
      "outputs": []
    },
    {
      "cell_type": "markdown",
      "metadata": {
        "id": "UkB3X0kOZbmo"
      },
      "source": [
        "## 離散コサイン変換行列の定義\n",
        "\n",
        "\\begin{array}{l}\n",
        "y[m]=\\sqrt{\\frac{2}{M}} k_{m} \\sum_{n=0}^{N-1} \\cos \\left(\\frac{(2 n+1) m \\pi}{2 M}\\right) x[n],\\, m=0,1, \\cdots, M-1 \\\\\n",
        "x[n]=\\sqrt{\\frac{2}{M}} \\sum_{m=0}^{N-1} k_{m} \\cos \\left(\\frac{(2 n+1) m \\pi}{2 M}\\right) y[m],\\, n=0,1, \\cdots, M-1\n",
        "\\end{array}\n",
        "ただし、\n",
        "\\begin{equation}\n",
        "k_{m}=\\left\\{\\begin{array}{cc}\n",
        "\\frac{1}{\\sqrt{2}} & m=0 \\\\\n",
        "1 & m=1,2, \\cdots, M-1\n",
        "\\end{array}\\right.\n",
        "\\end{equation}\n",
        "\n",
        "### 順変換行列\n"
      ]
    },
    {
      "cell_type": "code",
      "metadata": {
        "id": "6GRggSPVYOzc"
      },
      "source": [
        "dctSize = 16\n",
        "arrayDct = np.matrix(np.zeros([dctSize,dctSize]))\n",
        "for iCol in range(dctSize):\n",
        "    for iRow in range(dctSize):\n",
        "        k = 1\n",
        "        if iRow == 0:\n",
        "            k = 1/np.sqrt(2)\n",
        "        arrayDct[iRow,iCol] = np.sqrt(2/dctSize)*k*np.cos((2*iCol+1)*iRow*np.pi/(2*dctSize))\n",
        "\n",
        "#display(arrayDct)"
      ],
      "execution_count": null,
      "outputs": []
    },
    {
      "cell_type": "markdown",
      "metadata": {
        "id": "GFi9QCWAEQwV"
      },
      "source": [
        "### 逆変換行列\n",
        "\n",
        "離散コサイン変換(DCT)は正規直交行列のため、逆変換行列は順変換行列の転置で与えられる。\n",
        "\\begin{equation}\n",
        "\\mathbf{C}^{-1}=\\mathbf{C}^T\n",
        "\\end{equation}"
      ]
    },
    {
      "cell_type": "code",
      "metadata": {
        "id": "2cMN5ONBEQwW"
      },
      "source": [
        "#逆変換行列\n",
        "arrayIdct = arrayDct.T\n",
        "\n",
        "#display(arrayIdct)"
      ],
      "execution_count": null,
      "outputs": []
    },
    {
      "cell_type": "markdown",
      "metadata": {
        "id": "RUYXhd-nEQwb"
      },
      "source": [
        "## 二次元DCT\n",
        "\\begin{equation}\n",
        "\\mathbf{Y}=\\mathbf{CXC}^T\n",
        "\\end{equation}\n"
      ]
    },
    {
      "cell_type": "code",
      "metadata": {
        "id": "ZSTyBtPaEQwb"
      },
      "source": [
        "arrayY = np.dot(np.dot(arrayDct,arrayX),arrayDct.T)\n",
        "#display(arrayY)"
      ],
      "execution_count": null,
      "outputs": []
    },
    {
      "cell_type": "markdown",
      "metadata": {
        "id": "seLRI-JIEQwf"
      },
      "source": [
        "## 二次元逆DCT\n",
        "\\begin{equation}\n",
        "\\mathbf{X}=\\mathbf{C}^{-1}\\mathbf{YC}^{-T}\n",
        "\\end{equation}"
      ]
    },
    {
      "cell_type": "code",
      "metadata": {
        "id": "lufAxgplEQwf",
        "outputId": "8dd99433-435a-4f16-ee05-c0e7d60b9def",
        "colab": {
          "base_uri": "https://localhost:8080/",
          "height": 580
        }
      },
      "source": [
        "arrayR = np.dot(np.dot(arrayIdct,arrayY),arrayIdct.T)\n",
        "apro_arrayR = np.round(arrayR, decimals=0) #小数点第一位を四捨五入して整数化\n",
        "display(apro_arrayR)"
      ],
      "execution_count": null,
      "outputs": [
        {
          "output_type": "display_data",
          "data": {
            "text/plain": [
              "matrix([[97., 16., 99., 96., 20., 94., 60., 50., 36., 91., 96., 76., 23.,\n",
              "         29., 51., 16.],\n",
              "        [90., 58., 84., 87., 60., 31., 83., 10., 19., 40., 89., 41., 51.,\n",
              "         55., 44., 70.],\n",
              "        [36., 22., 56., 85., 87., 25., 94., 45., 52., 76., 59., 14., 36.,\n",
              "         37., 23., 31.],\n",
              "        [79., 27., 69., 68., 49., 88., 45., 87., 85., 99., 25., 35., 81.,\n",
              "         44., 98., 33.],\n",
              "        [35., 95., 82., 36., 75., 75., 30., 24., 45., 27., 85., 27., 34.,\n",
              "         91., 93., 52.],\n",
              "        [80., 66., 88., 54., 39., 89., 47., 96., 24., 14., 85., 84., 67.,\n",
              "         88., 59., 87.],\n",
              "        [64., 41., 90., 47., 66., 10., 36., 10., 98., 31., 72., 20., 22.,\n",
              "         45., 47., 29.],\n",
              "        [26., 37., 72., 84., 54., 99., 76., 80., 36., 38., 10., 89., 43.,\n",
              "         68., 80., 29.],\n",
              "        [82., 74., 11., 11., 16., 11., 91., 26., 45., 86., 62., 82., 19.,\n",
              "         13., 30., 57.],\n",
              "        [81., 61., 46., 99., 52., 77., 31., 20., 94., 66., 32., 55., 57.,\n",
              "         10., 76., 76.],\n",
              "        [36., 82., 97., 62., 36., 20., 97., 97., 26., 66., 57., 43., 84.,\n",
              "         42., 11., 25.],\n",
              "        [57., 66., 37., 25., 85., 75., 42., 97., 48., 75., 38., 43., 81.,\n",
              "         74., 48., 66.],\n",
              "        [50., 55., 96., 10., 89., 93., 50., 48., 29., 15., 67., 32., 19.,\n",
              "         66., 85., 31.],\n",
              "        [84., 92., 10., 31., 97., 80., 39., 19., 28., 63., 53., 43., 55.,\n",
              "         86., 35., 83.],\n",
              "        [99., 99., 50., 18., 46., 56., 30., 83., 19., 25., 89., 32., 16.,\n",
              "         19., 60., 44.],\n",
              "        [51., 65., 72., 77., 75., 89., 27., 76., 80., 18., 91., 74., 36.,\n",
              "         90., 47., 82.]])"
            ]
          },
          "metadata": {
            "tags": []
          }
        }
      ]
    },
    {
      "cell_type": "code",
      "metadata": {
        "id": "_Z2XHMmHwUc1",
        "outputId": "169d36bb-05b6-472f-c59b-9bda49c84e06",
        "colab": {
          "base_uri": "https://localhost:8080/"
        }
      },
      "source": [
        "print('=> Running 1000 times on GPU')\n",
        "%time for i in range(1000): _ = np.dot(np.dot(arrayIdct, arrayY),arrayIdct.T)"
      ],
      "execution_count": null,
      "outputs": [
        {
          "output_type": "stream",
          "text": [
            "=> Running 1000 times on GPU\n",
            "CPU times: user 10.2 ms, sys: 0 ns, total: 10.2 ms\n",
            "Wall time: 12.2 ms\n"
          ],
          "name": "stdout"
        }
      ]
    }
  ]
}