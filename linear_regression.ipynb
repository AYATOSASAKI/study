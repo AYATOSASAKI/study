{
  "nbformat": 4,
  "nbformat_minor": 0,
  "metadata": {
    "colab": {
      "name": "linear_regression.ipynb",
      "provenance": [],
      "collapsed_sections": [],
      "authorship_tag": "ABX9TyNb11mYIro18xm8vg8WnhoT",
      "include_colab_link": true
    },
    "kernelspec": {
      "name": "python3",
      "display_name": "Python 3"
    }
  },
  "cells": [
    {
      "cell_type": "markdown",
      "metadata": {
        "id": "view-in-github",
        "colab_type": "text"
      },
      "source": [
        "<a href=\"https://colab.research.google.com/github/msiplab/EicExpLabIV/blob/develop/linear_regression.ipynb\" target=\"_parent\"><img src=\"https://colab.research.google.com/assets/colab-badge.svg\" alt=\"Open In Colab\"/></a>"
      ]
    },
    {
      "cell_type": "markdown",
      "metadata": {
        "colab_type": "text",
        "id": "WRcWGqiuQFyf"
      },
      "source": [
        "# 線形回帰モデル\n",
        "\n",
        "## 電源モデル\n",
        "\n",
        "電源電圧$E$，内部抵抗$r$の出力電圧$V$と出力電流$I$の関係は\n",
        "\n",
        "$V=E-rI$\n",
        "\n",
        "と表現される。\n"
      ]
    },
    {
      "cell_type": "code",
      "metadata": {
        "id": "BXHMRwf3NRa2",
        "colab_type": "code",
        "colab": {}
      },
      "source": [
        "def voltage(current):\n",
        "  \"\"\"\n",
        "  電源モデル\n",
        "  電流と電圧の関係\n",
        "  \"\"\"\n",
        "  # 電源電圧\n",
        "  e = 24 # [V]\n",
        "  # 内部抵抗\n",
        "  r = 2 # [Ω]"
      ],
      "execution_count": 0,
      "outputs": []
    },
    {
      "cell_type": "markdown",
      "metadata": {
        "id": "_cU_GnKSMWGG",
        "colab_type": "text"
      },
      "source": [
        ""
      ]
    }
  ]
}