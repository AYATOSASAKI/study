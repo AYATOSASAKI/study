{
  "nbformat": 4,
  "nbformat_minor": 0,
  "metadata": {
    "colab": {
      "name": "linear_regression.ipynb",
      "provenance": [],
      "collapsed_sections": [],
      "authorship_tag": "ABX9TyPa1S0CLfuUJ60Ga8pT92+1",
      "include_colab_link": true
    },
    "kernelspec": {
      "name": "python3",
      "display_name": "Python 3"
    }
  },
  "cells": [
    {
      "cell_type": "markdown",
      "metadata": {
        "id": "view-in-github",
        "colab_type": "text"
      },
      "source": [
        "<a href=\"https://colab.research.google.com/github/msiplab/EicEngLabIV/blob/develop/linear_regression.ipynb\" target=\"_parent\"><img src=\"https://colab.research.google.com/assets/colab-badge.svg\" alt=\"Open In Colab\"/></a>"
      ]
    },
    {
      "cell_type": "markdown",
      "metadata": {
        "colab_type": "text",
        "id": "zSmVOgSzftuP"
      },
      "source": [
        "# 線形回帰モデル\n",
        "\n",
        "新潟大学工学部工学科　電子情報通信プログラム \n",
        "\n",
        "## 準備"
      ]
    },
    {
      "cell_type": "code",
      "metadata": {
        "id": "-Nnq6gzXfyCl",
        "colab_type": "code",
        "colab": {
          "base_uri": "https://localhost:8080/",
          "height": 146
        },
        "outputId": "ed40370e-3a68-4f8f-dd65-a9b216945a8f"
      },
      "source": [
        "!pip install japanize-matplotlib\n",
        "\n",
        "import numpy as np\n",
        "import pandas as pd\n",
        "import matplotlib.pyplot as plt\n",
        "import seaborn as sns\n",
        "import japanize_matplotlib #日本語化matplotlib\n",
        "sns.set(font=\"IPAexGothic\") #日本語フォント設定\n"
      ],
      "execution_count": 1,
      "outputs": [
        {
          "output_type": "stream",
          "text": [
            "Requirement already satisfied: japanize-matplotlib in /usr/local/lib/python3.6/dist-packages (1.0.5)\n"
          ],
          "name": "stdout"
        },
        {
          "output_type": "stream",
          "text": [
            "/usr/local/lib/python3.6/dist-packages/statsmodels/tools/_testing.py:19: FutureWarning: pandas.util.testing is deprecated. Use the functions in the public API at pandas.testing instead.\n",
            "  import pandas.util.testing as tm\n",
            "/usr/local/lib/python3.6/dist-packages/japanize_matplotlib/__init__.py:13: MatplotlibDeprecationWarning: \n",
            "The createFontList function was deprecated in Matplotlib 3.2 and will be removed two minor releases later. Use FontManager.addfont instead.\n",
            "  font_list = font_manager.createFontList(font_files)\n"
          ],
          "name": "stderr"
        }
      ]
    },
    {
      "cell_type": "markdown",
      "metadata": {
        "colab_type": "text",
        "id": "WRcWGqiuQFyf"
      },
      "source": [
        "## 電源モデル\n",
        "\n",
        "電源電圧$E$，内部抵抗$r$の出力電圧$V$と出力電流$I$の関係は\n",
        "\n",
        "$V=E-rI$\n",
        "\n",
        "と表現される。\n"
      ]
    },
    {
      "cell_type": "code",
      "metadata": {
        "id": "BXHMRwf3NRa2",
        "colab_type": "code",
        "colab": {}
      },
      "source": [
        "def load_voltage(current):\n",
        "  \"\"\"\n",
        "  電源モデル\n",
        "  出力電流と負荷電圧の関係\n",
        "  \"\"\"\n",
        "  # 電源電圧\n",
        "  source_voltage = 24 # [V]\n",
        "  # 内部抵抗\n",
        "  internal_register = 2 # [Ω]\n",
        "  # 負荷電圧\n",
        "  return source_voltage - internal_register * current"
      ],
      "execution_count": 0,
      "outputs": []
    },
    {
      "cell_type": "markdown",
      "metadata": {
        "id": "_cU_GnKSMWGG",
        "colab_type": "text"
      },
      "source": [
        "## 観測データ（ノイズなし）"
      ]
    },
    {
      "cell_type": "code",
      "metadata": {
        "id": "77ehlmE9XPLT",
        "colab_type": "code",
        "outputId": "f5483658-561b-468f-ee3f-df44c4e13f30",
        "colab": {
          "base_uri": "https://localhost:8080/",
          "height": 110
        }
      },
      "source": [
        "# 出力電流\n",
        "current_observations = np.random.rand(2)\n",
        "# 負荷電圧\n",
        "load_voltages = load_voltage(current_observations)\n",
        "\n",
        "#観測データの表\n",
        "dataset = pd.DataFrame([current_observations,load_voltages],\n",
        "                       columns = list(range(1,len(current_observations)+1)),\n",
        "                       index=['I [A]','V [V]'])\n",
        "display(dataset)"
      ],
      "execution_count": 3,
      "outputs": [
        {
          "output_type": "display_data",
          "data": {
            "text/html": [
              "<div>\n",
              "<style scoped>\n",
              "    .dataframe tbody tr th:only-of-type {\n",
              "        vertical-align: middle;\n",
              "    }\n",
              "\n",
              "    .dataframe tbody tr th {\n",
              "        vertical-align: top;\n",
              "    }\n",
              "\n",
              "    .dataframe thead th {\n",
              "        text-align: right;\n",
              "    }\n",
              "</style>\n",
              "<table border=\"1\" class=\"dataframe\">\n",
              "  <thead>\n",
              "    <tr style=\"text-align: right;\">\n",
              "      <th></th>\n",
              "      <th>1</th>\n",
              "      <th>2</th>\n",
              "    </tr>\n",
              "  </thead>\n",
              "  <tbody>\n",
              "    <tr>\n",
              "      <th>I [A]</th>\n",
              "      <td>0.577284</td>\n",
              "      <td>0.738225</td>\n",
              "    </tr>\n",
              "    <tr>\n",
              "      <th>V [V]</th>\n",
              "      <td>22.845432</td>\n",
              "      <td>22.523551</td>\n",
              "    </tr>\n",
              "  </tbody>\n",
              "</table>\n",
              "</div>"
            ],
            "text/plain": [
              "               1          2\n",
              "I [A]   0.577284   0.738225\n",
              "V [V]  22.845432  22.523551"
            ]
          },
          "metadata": {
            "tags": []
          }
        }
      ]
    },
    {
      "cell_type": "markdown",
      "metadata": {
        "id": "j8kdE3uxcNKE",
        "colab_type": "text"
      },
      "source": [
        "## 散布図の表示\n"
      ]
    },
    {
      "cell_type": "code",
      "metadata": {
        "id": "PO-BApIRc1tv",
        "colab_type": "code",
        "colab": {
          "base_uri": "https://localhost:8080/",
          "height": 299
        },
        "outputId": "ec129260-43d3-4f7f-dbe5-ff662a00250b"
      },
      "source": [
        "#散布図の表示\n",
        "plt.scatter(current_observations,load_voltages)\n",
        "plt.title(\"出力電流と負荷電圧の関係\")\n",
        "plt.xlabel(\"I [A]\")\n",
        "plt.ylabel(\"V [V]\")\n",
        "plt.xlim([0,1])\n",
        "plt.ylim([0,30])\n",
        "plt.grid(True)"
      ],
      "execution_count": 6,
      "outputs": [
        {
          "output_type": "display_data",
          "data": {
            "image/png": "[encoded data removed]",
            "text/plain": [
              "<Figure size 432x288 with 1 Axes>"
            ]
          },
          "metadata": {
            "tags": []
          }
        }
      ]
    },
    {
      "cell_type": "code",
      "metadata": {
        "id": "b8u1dZ-ldTTe",
        "colab_type": "code",
        "colab": {}
      },
      "source": [
        ""
      ],
      "execution_count": 0,
      "outputs": []
    }
  ]
}