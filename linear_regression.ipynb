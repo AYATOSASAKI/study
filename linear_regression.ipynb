{
  "nbformat": 4,
  "nbformat_minor": 0,
  "metadata": {
    "colab": {
      "name": "linear_regression.ipynb",
      "provenance": [],
      "collapsed_sections": [],
      "authorship_tag": "ABX9TyM0K4MB8IrKHUeBRfVDlLg6",
      "include_colab_link": true
    },
    "kernelspec": {
      "name": "python3",
      "display_name": "Python 3"
    }
  },
  "cells": [
    {
      "cell_type": "markdown",
      "metadata": {
        "id": "view-in-github",
        "colab_type": "text"
      },
      "source": [
        "<a href=\"https://colab.research.google.com/github/msiplab/EicEngLabIV/blob/develop/linear_regression.ipynb\" target=\"_parent\"><img src=\"https://colab.research.google.com/assets/colab-badge.svg\" alt=\"Open In Colab\"/></a>"
      ]
    },
    {
      "cell_type": "markdown",
      "metadata": {
        "colab_type": "text",
        "id": "WRcWGqiuQFyf"
      },
      "source": [
        "# 線形回帰モデル\n",
        "\n",
        "## 電源モデル\n",
        "\n",
        "電源電圧$E$，内部抵抗$r$の出力電圧$V$と出力電流$I$の関係は\n",
        "\n",
        "$V=E-rI$\n",
        "\n",
        "と表現される。\n"
      ]
    },
    {
      "cell_type": "code",
      "metadata": {
        "id": "BXHMRwf3NRa2",
        "colab_type": "code",
        "colab": {}
      },
      "source": [
        "def load_voltage(current):\n",
        "  \"\"\"\n",
        "  電源モデル\n",
        "  電流と電圧の関係\n",
        "  \"\"\"\n",
        "  # 電源電圧\n",
        "  source_voltage = 24 # [V]\n",
        "  # 内部抵抗\n",
        "  internal_register = 2 # [Ω]\n",
        "  # 負荷電圧\n",
        "  return source_voltage - internal_register * current"
      ],
      "execution_count": 0,
      "outputs": []
    },
    {
      "cell_type": "markdown",
      "metadata": {
        "id": "_cU_GnKSMWGG",
        "colab_type": "text"
      },
      "source": [
        "## 観測データ（ノイズなし）"
      ]
    },
    {
      "cell_type": "code",
      "metadata": {
        "id": "77ehlmE9XPLT",
        "colab_type": "code",
        "outputId": "3fd26836-7b0c-4e3e-a9e2-1fd843095644",
        "colab": {
          "base_uri": "https://localhost:8080/",
          "height": 110
        }
      },
      "source": [
        "import numpy as np\n",
        "import pandas as pd\n",
        "\n",
        "# 出力電流\n",
        "current_observations = np.random.rand(2)\n",
        "# 負荷電圧\n",
        "load_voltages = load_voltage(current_observations)\n",
        "\n",
        "#観測データの表\n",
        "dataset = pd.DataFrame([current_observations,load_voltages],\n",
        "                       columns = list(range(1,len(current_observations)+1)),\n",
        "                       index=['I[A]','V[V]'])\n",
        "display(dataset)"
      ],
      "execution_count": 14,
      "outputs": [
        {
          "output_type": "display_data",
          "data": {
            "text/html": [
              "<div>\n",
              "<style scoped>\n",
              "    .dataframe tbody tr th:only-of-type {\n",
              "        vertical-align: middle;\n",
              "    }\n",
              "\n",
              "    .dataframe tbody tr th {\n",
              "        vertical-align: top;\n",
              "    }\n",
              "\n",
              "    .dataframe thead th {\n",
              "        text-align: right;\n",
              "    }\n",
              "</style>\n",
              "<table border=\"1\" class=\"dataframe\">\n",
              "  <thead>\n",
              "    <tr style=\"text-align: right;\">\n",
              "      <th></th>\n",
              "      <th>1</th>\n",
              "      <th>2</th>\n",
              "    </tr>\n",
              "  </thead>\n",
              "  <tbody>\n",
              "    <tr>\n",
              "      <th>I[A]</th>\n",
              "      <td>0.436657</td>\n",
              "      <td>0.586589</td>\n",
              "    </tr>\n",
              "    <tr>\n",
              "      <th>V[V]</th>\n",
              "      <td>23.126687</td>\n",
              "      <td>22.826821</td>\n",
              "    </tr>\n",
              "  </tbody>\n",
              "</table>\n",
              "</div>"
            ],
            "text/plain": [
              "              1          2\n",
              "I[A]   0.436657   0.586589\n",
              "V[V]  23.126687  22.826821"
            ]
          },
          "metadata": {
            "tags": []
          }
        }
      ]
    },
    {
      "cell_type": "markdown",
      "metadata": {
        "id": "j8kdE3uxcNKE",
        "colab_type": "text"
      },
      "source": [
        "## 散布図の表示\n"
      ]
    }
  ]
}