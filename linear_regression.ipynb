{
  "nbformat": 4,
  "nbformat_minor": 0,
  "metadata": {
    "colab": {
      "name": "linear_regression.ipynb",
      "provenance": [],
      "collapsed_sections": [],
      "authorship_tag": "ABX9TyNgx0moUxkkbtMtqVfeGX3Z",
      "include_colab_link": true
    },
    "kernelspec": {
      "name": "python3",
      "display_name": "Python 3"
    }
  },
  "cells": [
    {
      "cell_type": "markdown",
      "metadata": {
        "id": "view-in-github",
        "colab_type": "text"
      },
      "source": [
        "<a href=\"https://colab.research.google.com/github/msiplab/EicEngLabIV/blob/develop/linear_regression.ipynb\" target=\"_parent\"><img src=\"https://colab.research.google.com/assets/colab-badge.svg\" alt=\"Open In Colab\"/></a>"
      ]
    },
    {
      "cell_type": "markdown",
      "metadata": {
        "colab_type": "text",
        "id": "zSmVOgSzftuP"
      },
      "source": [
        "# 線形回帰モデル\n",
        "\n",
        "新潟大学工学部工学科　電子情報通信プログラム \n",
        "\n",
        "## 準備"
      ]
    },
    {
      "cell_type": "code",
      "metadata": {
        "id": "-Nnq6gzXfyCl",
        "colab_type": "code",
        "outputId": "76afdde3-35a6-4d2d-c210-adf498b4403a",
        "colab": {
          "base_uri": "https://localhost:8080/",
          "height": 35
        }
      },
      "source": [
        "!pip install japanize-matplotlib\n",
        "\n",
        "import warnings\n",
        "warnings.simplefilter('ignore') #警告を無視（コメントアウト推奨）\n",
        "\n",
        "import numpy as np\n",
        "import pandas as pd\n",
        "import matplotlib.pyplot as plt\n",
        "import seaborn as sns\n",
        "import japanize_matplotlib #日本語化matplotlib\n",
        "sns.set(font=\"IPAexGothic\") #日本語フォント設定\n"
      ],
      "execution_count": 1,
      "outputs": [
        {
          "output_type": "stream",
          "text": [
            "Requirement already satisfied: japanize-matplotlib in /usr/local/lib/python3.6/dist-packages (1.0.5)\n"
          ],
          "name": "stdout"
        }
      ]
    },
    {
      "cell_type": "markdown",
      "metadata": {
        "colab_type": "text",
        "id": "WRcWGqiuQFyf"
      },
      "source": [
        "## 電源モデル\n",
        "\n",
        "電源電圧$E$，内部抵抗$r$の出力電圧$V$と出力電流$I$の関係は\n",
        "\n",
        "$V=E-rI$\n",
        "\n",
        "と表現される。\n"
      ]
    },
    {
      "cell_type": "code",
      "metadata": {
        "id": "BXHMRwf3NRa2",
        "colab_type": "code",
        "colab": {}
      },
      "source": [
        "def load_voltage(current):\n",
        "  \"\"\"\n",
        "  電源モデル\n",
        "  出力電流と負荷電圧の関係\n",
        "  \"\"\"\n",
        "  # 電源電圧\n",
        "  source_voltage = 24 # [V]\n",
        "  # 内部抵抗\n",
        "  internal_register = 2 # [Ω]\n",
        "  # 負荷電圧\n",
        "  return source_voltage - internal_register * current"
      ],
      "execution_count": 0,
      "outputs": []
    },
    {
      "cell_type": "markdown",
      "metadata": {
        "id": "_cU_GnKSMWGG",
        "colab_type": "text"
      },
      "source": [
        "## 観測データ（ノイズなし）"
      ]
    },
    {
      "cell_type": "code",
      "metadata": {
        "id": "77ehlmE9XPLT",
        "colab_type": "code",
        "outputId": "57259f03-fd3e-49f5-fb90-8f48bce743bc",
        "colab": {
          "base_uri": "https://localhost:8080/",
          "height": 110
        }
      },
      "source": [
        "# 観測点数\n",
        "nSamples = 2\n",
        "# 出力電流\n",
        "current_observations = np.random.rand(nSamples)\n",
        "# 負荷電圧\n",
        "load_voltages = load_voltage(current_observations)\n",
        "\n",
        "#観測データの表\n",
        "dataset = pd.DataFrame([current_observations,load_voltages],\n",
        "                       columns = list(range(1,len(current_observations)+1)),\n",
        "                       index=['I [A]','V [V]'])\n",
        "display(dataset)"
      ],
      "execution_count": 3,
      "outputs": [
        {
          "output_type": "display_data",
          "data": {
            "text/html": [
              "<div>\n",
              "<style scoped>\n",
              "    .dataframe tbody tr th:only-of-type {\n",
              "        vertical-align: middle;\n",
              "    }\n",
              "\n",
              "    .dataframe tbody tr th {\n",
              "        vertical-align: top;\n",
              "    }\n",
              "\n",
              "    .dataframe thead th {\n",
              "        text-align: right;\n",
              "    }\n",
              "</style>\n",
              "<table border=\"1\" class=\"dataframe\">\n",
              "  <thead>\n",
              "    <tr style=\"text-align: right;\">\n",
              "      <th></th>\n",
              "      <th>1</th>\n",
              "      <th>2</th>\n",
              "    </tr>\n",
              "  </thead>\n",
              "  <tbody>\n",
              "    <tr>\n",
              "      <th>I [A]</th>\n",
              "      <td>0.387687</td>\n",
              "      <td>0.450932</td>\n",
              "    </tr>\n",
              "    <tr>\n",
              "      <th>V [V]</th>\n",
              "      <td>23.224626</td>\n",
              "      <td>23.098135</td>\n",
              "    </tr>\n",
              "  </tbody>\n",
              "</table>\n",
              "</div>"
            ],
            "text/plain": [
              "               1          2\n",
              "I [A]   0.387687   0.450932\n",
              "V [V]  23.224626  23.098135"
            ]
          },
          "metadata": {
            "tags": []
          }
        }
      ]
    },
    {
      "cell_type": "markdown",
      "metadata": {
        "id": "j8kdE3uxcNKE",
        "colab_type": "text"
      },
      "source": [
        "## 散布図の表示\n"
      ]
    },
    {
      "cell_type": "code",
      "metadata": {
        "id": "PO-BApIRc1tv",
        "colab_type": "code",
        "outputId": "ddb8f818-7935-4e66-f2e8-77a61280da9f",
        "colab": {
          "base_uri": "https://localhost:8080/",
          "height": 299
        }
      },
      "source": [
        "#散布図の表示\n",
        "fig, ax = plt.subplots()\n",
        "ax.scatter(current_observations,load_voltages)\n",
        "ax.set_title(\"出力電流と負荷電圧の関係\")\n",
        "ax.set_xlabel(\"I [A]\")\n",
        "ax.set_ylabel(\"V [V]\")\n",
        "ax.set_xlim([0,1])\n",
        "ax.set_ylim([0,30])\n",
        "ax.grid(True)\n",
        "plt.show()"
      ],
      "execution_count": 4,
      "outputs": [
        {
          "output_type": "display_data",
          "data": {
            "image/png": "[encoded data removed]",
            "text/plain": [
              "<Figure size 432x288 with 1 Axes>"
            ]
          },
          "metadata": {
            "tags": []
          }
        }
      ]
    },
    {
      "cell_type": "markdown",
      "metadata": {
        "id": "y107P3PxjjBE",
        "colab_type": "text"
      },
      "source": [
        "## 電源電圧 $E$ と内部抵抗 $r$ の解\n",
        "\n",
        "データセット$\\{(\\mathrm{I}_1,\\mathrm{V}_1),(\\mathrm{I}_2,\\mathrm{V}_2)\\}$より，\n",
        "\n",
        "$\\left(\\begin{array}{l}E \\\\ r\\end{array}\\right)=\\left(\\begin{array}{ll}1 & -\\mathrm{I}_{1} \\\\ 1 & -\\mathrm{I}_{2}\\end{array}\\right)^{-1}\\left(\\begin{array}{l}\\mathrm{V}_{1} \\\\ \\mathrm{V}_{2}\\end{array}\\right)$"
      ]
    },
    {
      "cell_type": "code",
      "metadata": {
        "id": "b8u1dZ-ldTTe",
        "colab_type": "code",
        "outputId": "0f5b80ea-ec38-430a-9e5c-83aac2cc841b",
        "colab": {
          "base_uri": "https://localhost:8080/",
          "height": 53
        }
      },
      "source": [
        "X = np.array([[1., -current_observations[0]],\n",
        "              [1., -current_observations[1]]])\n",
        "y = load_voltages\n",
        "beta = np.linalg.solve(X, y)\n",
        "\n",
        "print(\"電源電圧 E = {0:5.2f} [V]\".format(beta[0]))\n",
        "print(\"内部抵抗 r = {0:5.2f} [Ω]\".format(beta[1]))"
      ],
      "execution_count": 5,
      "outputs": [
        {
          "output_type": "stream",
          "text": [
            "電源電圧 E = 24.00 [V]\n",
            "内部抵抗 r =  2.00 [Ω]\n"
          ],
          "name": "stdout"
        }
      ]
    },
    {
      "cell_type": "markdown",
      "metadata": {
        "id": "xdTanoYEQSib",
        "colab_type": "text"
      },
      "source": [
        "# 観測データ（ノイズあり）"
      ]
    },
    {
      "cell_type": "code",
      "metadata": {
        "colab_type": "code",
        "outputId": "8d729dcf-e285-44d4-9a20-6b1c9cee6429",
        "id": "KwkXmMX4Qb7X",
        "colab": {
          "base_uri": "https://localhost:8080/",
          "height": 110
        }
      },
      "source": [
        "# 観測点数\n",
        "nSamples = 10\n",
        "# 出力電流\n",
        "current_observations = np.random.rand(nSamples)\n",
        "# 観測誤差\n",
        "nsigma = 0.5\n",
        "noise = nsigma*np.random.randn(nSamples)\n",
        "# 負荷電圧\n",
        "load_voltages = load_voltage(current_observations)+noise\n",
        "#観測データの表\n",
        "dataset = pd.DataFrame([current_observations,load_voltages],\n",
        "                       columns = list(range(1,len(current_observations)+1)),\n",
        "                       index=['I [A]','V [V]'])\n",
        "display(dataset)"
      ],
      "execution_count": 6,
      "outputs": [
        {
          "output_type": "display_data",
          "data": {
            "text/html": [
              "<div>\n",
              "<style scoped>\n",
              "    .dataframe tbody tr th:only-of-type {\n",
              "        vertical-align: middle;\n",
              "    }\n",
              "\n",
              "    .dataframe tbody tr th {\n",
              "        vertical-align: top;\n",
              "    }\n",
              "\n",
              "    .dataframe thead th {\n",
              "        text-align: right;\n",
              "    }\n",
              "</style>\n",
              "<table border=\"1\" class=\"dataframe\">\n",
              "  <thead>\n",
              "    <tr style=\"text-align: right;\">\n",
              "      <th></th>\n",
              "      <th>1</th>\n",
              "      <th>2</th>\n",
              "      <th>3</th>\n",
              "      <th>4</th>\n",
              "      <th>5</th>\n",
              "      <th>6</th>\n",
              "      <th>7</th>\n",
              "      <th>8</th>\n",
              "      <th>9</th>\n",
              "      <th>10</th>\n",
              "    </tr>\n",
              "  </thead>\n",
              "  <tbody>\n",
              "    <tr>\n",
              "      <th>I [A]</th>\n",
              "      <td>0.995273</td>\n",
              "      <td>0.412822</td>\n",
              "      <td>0.466400</td>\n",
              "      <td>0.951704</td>\n",
              "      <td>0.862294</td>\n",
              "      <td>0.522110</td>\n",
              "      <td>0.630412</td>\n",
              "      <td>0.534995</td>\n",
              "      <td>0.163046</td>\n",
              "      <td>0.304282</td>\n",
              "    </tr>\n",
              "    <tr>\n",
              "      <th>V [V]</th>\n",
              "      <td>22.294266</td>\n",
              "      <td>23.389130</td>\n",
              "      <td>22.358599</td>\n",
              "      <td>22.652613</td>\n",
              "      <td>21.615035</td>\n",
              "      <td>22.825214</td>\n",
              "      <td>22.664038</td>\n",
              "      <td>22.464063</td>\n",
              "      <td>23.257288</td>\n",
              "      <td>23.554977</td>\n",
              "    </tr>\n",
              "  </tbody>\n",
              "</table>\n",
              "</div>"
            ],
            "text/plain": [
              "              1          2          3   ...         8          9          10\n",
              "I [A]   0.995273   0.412822   0.466400  ...   0.534995   0.163046   0.304282\n",
              "V [V]  22.294266  23.389130  22.358599  ...  22.464063  23.257288  23.554977\n",
              "\n",
              "[2 rows x 10 columns]"
            ]
          },
          "metadata": {
            "tags": []
          }
        }
      ]
    },
    {
      "cell_type": "markdown",
      "metadata": {
        "id": "5BYNoJ4OS3F7",
        "colab_type": "text"
      },
      "source": [
        ""
      ]
    },
    {
      "cell_type": "code",
      "metadata": {
        "id": "qkze7nEsS3cz",
        "colab_type": "code",
        "colab": {
          "base_uri": "https://localhost:8080/",
          "height": 299
        },
        "outputId": "d442a5d4-c097-41bf-c669-8da34fb3c039"
      },
      "source": [
        "#散布図の表示\n",
        "fig, ax = plt.subplots()\n",
        "ax.scatter(current_observations,load_voltages)\n",
        "ax.set_title(\"出力電流と負荷電圧の関係\")\n",
        "ax.set_xlabel(\"I [A]\")\n",
        "ax.set_ylabel(\"V [V]\")\n",
        "ax.set_xlim([0,1])\n",
        "ax.set_ylim([0,30])\n",
        "ax.grid(True)\n",
        "plt.show()"
      ],
      "execution_count": 7,
      "outputs": [
        {
          "output_type": "display_data",
          "data": {
            "image/png": "[encoded data removed]",
            "text/plain": [
              "<Figure size 432x288 with 1 Axes>"
            ]
          },
          "metadata": {
            "tags": []
          }
        }
      ]
    }
  ]
}