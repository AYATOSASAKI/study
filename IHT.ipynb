{
  "nbformat": 4,
  "nbformat_minor": 0,
  "metadata": {
    "colab": {
      "name": "IHT",
      "provenance": [],
      "authorship_tag": "ABX9TyN/F8w+BUlTlSwM+4Kh+jwQ"
    },
    "kernelspec": {
      "name": "python3",
      "display_name": "Python 3"
    }
  },
  "cells": [
    {
      "cell_type": "markdown",
      "metadata": {
        "id": "X_6udME5qdj7"
      },
      "source": [
        "ハードしきい値作用素\n",
        "\n",
        "$\n",
        "x=H_{\\lambda}(y)=\n",
        "\\left\\{\\begin{array}{ll}y & (|y| \\geqq \\lambda) \\\\ \n",
        "0 & ( |y| <\\lambda) \\\\\n",
        "\\end{array}\\right.\n",
        "$"
      ]
    },
    {
      "cell_type": "code",
      "metadata": {
        "id": "XmrplNxyXHU4"
      },
      "source": [
        "import numpy as np\n",
        "import matplotlib.pyplot as plt\n",
        "\n",
        "def HT(y, lmd):\n",
        "      if abs(y) >= lmd:\n",
        "        ans = y\n",
        "      else:\n",
        "        ans = 0\n",
        "      return ans"
      ],
      "execution_count": 63,
      "outputs": []
    },
    {
      "cell_type": "code",
      "metadata": {
        "colab": {
          "base_uri": "https://localhost:8080/",
          "height": 265
        },
        "id": "j3lraWAHwWze",
        "outputId": "7df7917c-7f87-4441-b8f4-ea1ab69f7f64"
      },
      "source": [
        "# -100 < y < 100 \n",
        "y = np.arange(-100, 100 ,0.1)\n",
        "\n",
        "# ハード閾値処理\n",
        "lmd = 25\n",
        "H = []\n",
        "for i in range(len(y)):\n",
        "  H = np.append(H, HT(y[i],lmd))\n",
        "\n",
        "#グラフへのプロット\n",
        "plt.plot(y,H)\n",
        "plt.show()"
      ],
      "execution_count": 65,
      "outputs": [
        {
          "output_type": "display_data",
          "data": {
            "image/png": "[encoded data removed]",
            "text/plain": [
              "<Figure size 432x288 with 1 Axes>"
            ]
          },
          "metadata": {
            "tags": [],
            "needs_background": "light"
          }
        }
      ]
    }
  ]
}