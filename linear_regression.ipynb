{
  "nbformat": 4,
  "nbformat_minor": 0,
  "metadata": {
    "colab": {
      "name": "linear_regression.ipynb",
      "provenance": [],
      "collapsed_sections": [],
      "authorship_tag": "ABX9TyOAJSh6CrCNVeyrnWMTfhhq",
      "include_colab_link": true
    },
    "kernelspec": {
      "name": "python3",
      "display_name": "Python 3"
    }
  },
  "cells": [
    {
      "cell_type": "markdown",
      "metadata": {
        "id": "view-in-github",
        "colab_type": "text"
      },
      "source": [
        "<a href=\"https://colab.research.google.com/github/msiplab/EicEngLabIV/blob/develop/linear_regression.ipynb\" target=\"_parent\"><img src=\"https://colab.research.google.com/assets/colab-badge.svg\" alt=\"Open In Colab\"/></a>"
      ]
    },
    {
      "cell_type": "markdown",
      "metadata": {
        "colab_type": "text",
        "id": "zSmVOgSzftuP"
      },
      "source": [
        "# 線形回帰モデル\n",
        "\n",
        "新潟大学工学部工学科　電子情報通信プログラム \n",
        "\n",
        "## 準備"
      ]
    },
    {
      "cell_type": "code",
      "metadata": {
        "id": "-Nnq6gzXfyCl",
        "colab_type": "code",
        "colab": {
          "base_uri": "https://localhost:8080/",
          "height": 35
        },
        "outputId": "a7ac4ca6-2c2a-4954-e38f-20e32617b048"
      },
      "source": [
        "!pip install japanize-matplotlib\n",
        "\n",
        "import warnings\n",
        "warnings.simplefilter('ignore') #警告を無視（コメントアウト推奨）\n",
        "\n",
        "import numpy as np\n",
        "import pandas as pd\n",
        "import matplotlib.pyplot as plt\n",
        "import seaborn as sns\n",
        "import japanize_matplotlib #日本語化matplotlib\n",
        "sns.set(font=\"IPAexGothic\") #日本語フォント設定\n"
      ],
      "execution_count": 1,
      "outputs": [
        {
          "output_type": "stream",
          "text": [
            "Requirement already satisfied: japanize-matplotlib in /usr/local/lib/python3.6/dist-packages (1.0.5)\n"
          ],
          "name": "stdout"
        }
      ]
    },
    {
      "cell_type": "markdown",
      "metadata": {
        "colab_type": "text",
        "id": "WRcWGqiuQFyf"
      },
      "source": [
        "## 電源モデル\n",
        "\n",
        "電源電圧$E$，内部抵抗$r$の出力電圧$V$と出力電流$I$の関係は\n",
        "\n",
        "$V=E-rI$\n",
        "\n",
        "と表現される。\n"
      ]
    },
    {
      "cell_type": "code",
      "metadata": {
        "id": "BXHMRwf3NRa2",
        "colab_type": "code",
        "colab": {}
      },
      "source": [
        "def load_voltage(current):\n",
        "  \"\"\"\n",
        "  電源モデル\n",
        "  出力電流と負荷電圧の関係\n",
        "  \"\"\"\n",
        "  # 電源電圧\n",
        "  source_voltage = 24 # [V]\n",
        "  # 内部抵抗\n",
        "  internal_register = 2 # [Ω]\n",
        "  # 負荷電圧\n",
        "  return source_voltage - internal_register * current"
      ],
      "execution_count": 0,
      "outputs": []
    },
    {
      "cell_type": "markdown",
      "metadata": {
        "id": "_cU_GnKSMWGG",
        "colab_type": "text"
      },
      "source": [
        "## 観測データ（ノイズなし）"
      ]
    },
    {
      "cell_type": "code",
      "metadata": {
        "id": "77ehlmE9XPLT",
        "colab_type": "code",
        "outputId": "42662cb8-df14-41c2-eaab-99cb7030cb24",
        "colab": {
          "base_uri": "https://localhost:8080/",
          "height": 110
        }
      },
      "source": [
        "# 出力電流\n",
        "current_observations = np.random.rand(2)\n",
        "# 負荷電圧\n",
        "load_voltages = load_voltage(current_observations)\n",
        "\n",
        "#観測データの表\n",
        "dataset = pd.DataFrame([current_observations,load_voltages],\n",
        "                       columns = list(range(1,len(current_observations)+1)),\n",
        "                       index=['I [A]','V [V]'])\n",
        "display(dataset)"
      ],
      "execution_count": 3,
      "outputs": [
        {
          "output_type": "display_data",
          "data": {
            "text/html": [
              "<div>\n",
              "<style scoped>\n",
              "    .dataframe tbody tr th:only-of-type {\n",
              "        vertical-align: middle;\n",
              "    }\n",
              "\n",
              "    .dataframe tbody tr th {\n",
              "        vertical-align: top;\n",
              "    }\n",
              "\n",
              "    .dataframe thead th {\n",
              "        text-align: right;\n",
              "    }\n",
              "</style>\n",
              "<table border=\"1\" class=\"dataframe\">\n",
              "  <thead>\n",
              "    <tr style=\"text-align: right;\">\n",
              "      <th></th>\n",
              "      <th>1</th>\n",
              "      <th>2</th>\n",
              "    </tr>\n",
              "  </thead>\n",
              "  <tbody>\n",
              "    <tr>\n",
              "      <th>I [A]</th>\n",
              "      <td>0.566547</td>\n",
              "      <td>0.117898</td>\n",
              "    </tr>\n",
              "    <tr>\n",
              "      <th>V [V]</th>\n",
              "      <td>22.866907</td>\n",
              "      <td>23.764203</td>\n",
              "    </tr>\n",
              "  </tbody>\n",
              "</table>\n",
              "</div>"
            ],
            "text/plain": [
              "               1          2\n",
              "I [A]   0.566547   0.117898\n",
              "V [V]  22.866907  23.764203"
            ]
          },
          "metadata": {
            "tags": []
          }
        }
      ]
    },
    {
      "cell_type": "markdown",
      "metadata": {
        "id": "j8kdE3uxcNKE",
        "colab_type": "text"
      },
      "source": [
        "## 散布図の表示\n"
      ]
    },
    {
      "cell_type": "code",
      "metadata": {
        "id": "PO-BApIRc1tv",
        "colab_type": "code",
        "colab": {
          "base_uri": "https://localhost:8080/",
          "height": 299
        },
        "outputId": "831046bb-880c-43c2-de2d-2d8b8abe6f26"
      },
      "source": [
        "#散布図の表示\n",
        "plt.scatter(current_observations,load_voltages)\n",
        "plt.title(\"出力電流と負荷電圧の関係\")\n",
        "plt.xlabel(\"I [A]\")\n",
        "plt.ylabel(\"V [V]\")\n",
        "plt.xlim([0,1])\n",
        "plt.ylim([0,30])\n",
        "plt.grid(True)"
      ],
      "execution_count": 4,
      "outputs": [
        {
          "output_type": "display_data",
          "data": {
            "image/png": "[encoded data removed]",
            "text/plain": [
              "<Figure size 432x288 with 1 Axes>"
            ]
          },
          "metadata": {
            "tags": []
          }
        }
      ]
    },
    {
      "cell_type": "markdown",
      "metadata": {
        "id": "y107P3PxjjBE",
        "colab_type": "text"
      },
      "source": [
        "## 電源電圧 $E$ と内部抵抗 $r$ の解\n",
        "\n",
        "データセット$\\{(\\mathrm{I}_1,\\mathrm{V}_1),(\\mathrm{I}_2,\\mathrm{V}_2)\\}$より，\n",
        "\n",
        "$\\left(\\begin{array}{l}E \\\\ r\\end{array}\\right)=\\left(\\begin{array}{ll}1 & -\\mathrm{I}_{1} \\\\ 1 & -\\mathrm{I}_{2}\\end{array}\\right)^{-1}\\left(\\begin{array}{l}\\mathrm{V}_{1} \\\\ \\mathrm{V}_{2}\\end{array}\\right)$"
      ]
    },
    {
      "cell_type": "code",
      "metadata": {
        "id": "b8u1dZ-ldTTe",
        "colab_type": "code",
        "colab": {
          "base_uri": "https://localhost:8080/",
          "height": 53
        },
        "outputId": "3eaf2784-2faa-4e11-aada-f30eb351ebc7"
      },
      "source": [
        "X = np.array([[1., -current_observations[0]],\n",
        "              [1., -current_observations[1]]])\n",
        "y = load_voltages\n",
        "beta = np.linalg.solve(X, y)\n",
        "\n",
        "print(\"電源電圧 E = {0:5.2f} [V]\".format(beta[0]))\n",
        "print(\"内部抵抗 r = {0:5.2f} [Ω]\".format(beta[1]))"
      ],
      "execution_count": 5,
      "outputs": [
        {
          "output_type": "stream",
          "text": [
            "電源電圧 E = 24.00 [V]\n",
            "内部抵抗 r =  2.00 [Ω]\n"
          ],
          "name": "stdout"
        }
      ]
    }
  ]
}